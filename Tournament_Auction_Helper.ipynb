{
 "cells": [
  {
   "cell_type": "code",
   "execution_count": null,
   "metadata": {},
   "outputs": [],
   "source": [
    "import pandas as pd\n",
    "import random"
   ]
  },
  {
   "cell_type": "code",
   "execution_count": null,
   "metadata": {},
   "outputs": [],
   "source": [
    "# read the list of players into pandas dataframe\n",
    "\n",
    "players=pd.read_excel('Player_list.xlsx')\n",
    "players"
   ]
  },
  {
   "cell_type": "code",
   "execution_count": null,
   "metadata": {},
   "outputs": [],
   "source": [
    "# accept team names and maximum purse limit\n",
    "\n",
    "min_teams = int(input('ENTER THE NUMBER OF TEAMS:')) \n",
    "min_amount = int(input('ENTER THE MAXIMUM PURSE SIZE:'))\n",
    "\n",
    "teams_purse={} # stores purse amount teamwise\n",
    "teams_players={} # stores the player names teamwise\n",
    "teams_total={} # stores the count of players teamwise\n",
    "for i in range(1, min_teams+1):\n",
    "    name = input(\"ENTER TEAM {}'s NAME:\".format(i))\n",
    "    teams_purse[name] = min_amount\n",
    "    teams_players[name] = []\n",
    "    teams_total[name] = 0\n",
    "    "
   ]
  },
  {
   "cell_type": "code",
   "execution_count": null,
   "metadata": {},
   "outputs": [],
   "source": [
    "# shuffle all the names in the dataframe and store them randomly in a list all_players\n",
    "\n",
    "all_players=[]\n",
    "sold=[]\n",
    "unsold=[]\n",
    "\n",
    "players=players.sample(frac = 1)\n",
    "\n",
    "while(players.shape[0]!=len(all_players)):\n",
    "    \n",
    "    x = random.randint(0, players.shape[0]-1) \n",
    "    if players['Player Name'][x] not in all_players:\n",
    "            all_players.append(players['Player Name'][x])\n",
    "           "
   ]
  },
  {
   "cell_type": "code",
   "execution_count": null,
   "metadata": {},
   "outputs": [],
   "source": [
    "players.head()"
   ]
  },
  {
   "cell_type": "code",
   "execution_count": null,
   "metadata": {},
   "outputs": [],
   "source": [
    "# randomly select a name from the list to auction:\n",
    "# if sold then store name in respective team, deduct the price from the team's purse and increment player count\n",
    "# if unsold then store in a list\n",
    "\n",
    "while(len(all_players)!=0):\n",
    "    \n",
    "    x=random.randint(0,len(all_players)-1)\n",
    "    print('*********************************************')\n",
    "    print(all_players[x])\n",
    "    \n",
    "    choice=input(\"\\nSOLD OR UNSOLD (s/u): \")\n",
    "\n",
    "    if choice=='s':\n",
    "        price=int(input(\"ENTER PRICE: \"))\n",
    "        team=input(\"ENTER TEAM: \")\n",
    "        \n",
    "        teams_purse[team]-=price\n",
    "        teams_players[team].append(all_players[x])\n",
    "        teams_total[team]+=1\n",
    "        sold.append(all_players[x])\n",
    "        all_players.pop(x)\n",
    "\n",
    "    else:\n",
    "        unsold.append(all_players[x])\n",
    "        all_players.pop(x)\n",
    "\n",
    "\n",
    "    print('\\nTOTAL PURSE AMOUNT REMAINING: ')            \n",
    "    for i,k in teams_purse.items():\n",
    "        print('[',i,':',k,']', end = ' ')\n",
    "        \n",
    "    print('\\n\\nTOTAL PLAYERS BOUGHT: ')\n",
    "    for i,k in teams_total.items():\n",
    "        print('[',i,':',k,']', end = ' ')\n",
    "    print('\\n\\n*********************************************')\n"
   ]
  },
  {
   "cell_type": "code",
   "execution_count": null,
   "metadata": {},
   "outputs": [],
   "source": [
    "# show the details after the auction\n",
    "\n",
    "print('\\nTOTAL PURSE AMOUNT REMAINING: ')            \n",
    "for i,k in teams_purse.items():\n",
    "    print('[',i,':',k,']', end = ' ')\n",
    "    \n",
    "print('\\n*********************************************')\n",
    "\n",
    "print('\\nTOTAL PLAYERS BOUGHT: ')\n",
    "for i,k in teams_total.items():\n",
    "    print('[',i,':',k,']', end = ' ')\n",
    "\n",
    "print('\\n*********************************************')\n",
    "\n",
    "print('\\nTEAMS: ')\n",
    "for i,j in teams_players.items():\n",
    "    print('\\n*********************************************')\n",
    "    print('TEAM',i.upper(),':')\n",
    "    for k in range(len(j)):\n",
    "        print(k+1,'.',j[k])\n",
    "        \n",
    "    print('\\n*********************************************')\n",
    "\n",
    "   "
   ]
  },
  {
   "cell_type": "code",
   "execution_count": null,
   "metadata": {},
   "outputs": [],
   "source": [
    "print('TOTAL UNSOLD PLAYERS: ',len(unsold))"
   ]
  },
  {
   "cell_type": "code",
   "execution_count": null,
   "metadata": {},
   "outputs": [],
   "source": [
    "# shuffle the unsold player list and then randomly assign them to the teams\n",
    "\n",
    "random.shuffle(unsold)\n",
    "names=list(teams_players.keys())\n",
    "\n",
    "i=0\n",
    "while(len(unsold)!=0):\n",
    "\n",
    "    x=random.randint(0,len(unsold)-1)\n",
    "    \n",
    "    teams_players[names[i%min_teams]].append(unsold[x])\n",
    "    teams_total[names[i%min_teams]]+=1\n",
    "    unsold.pop(x)\n",
    "    i+=1\n"
   ]
  },
  {
   "cell_type": "code",
   "execution_count": null,
   "metadata": {},
   "outputs": [],
   "source": [
    "print('\\nTOTAL PURSE AMOUNT REMAINING: ')            \n",
    "for i,k in teams_purse.items():\n",
    "    print('[',i,':',k,']', end = ' ')\n",
    "    \n",
    "print('\\n*********************************************')\n",
    "\n",
    "print('\\nTOTAL PLAYERS BOUGHT: ')\n",
    "for i,k in teams_total.items():\n",
    "    print('[',i,':',k,']', end = ' ')\n",
    "\n",
    "print('\\n*********************************************')\n",
    "\n",
    "print('\\nTEAMS: ')\n",
    "for i,j in teams_players.items():\n",
    "    print('\\n*********************************************')\n",
    "    print('TEAM',i.upper(),':')\n",
    "    for k in range(len(j)):\n",
    "        print(k+1,'.',j[k])\n",
    "        \n",
    "    print('\\n*********************************************')\n"
   ]
  },
  {
   "cell_type": "code",
   "execution_count": null,
   "metadata": {},
   "outputs": [],
   "source": []
  }
 ],
 "metadata": {
  "kernelspec": {
   "display_name": "Python 3",
   "language": "python",
   "name": "python3"
  },
  "language_info": {
   "codemirror_mode": {
    "name": "ipython",
    "version": 3
   },
   "file_extension": ".py",
   "mimetype": "text/x-python",
   "name": "python",
   "nbconvert_exporter": "python",
   "pygments_lexer": "ipython3",
   "version": "3.7.3"
  }
 },
 "nbformat": 4,
 "nbformat_minor": 2
}
